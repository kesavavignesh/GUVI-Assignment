{
  "cells": [
    {
      "cell_type": "markdown",
      "metadata": {
        "id": "view-in-github",
        "colab_type": "text"
      },
      "source": [
        "<a href=\"https://colab.research.google.com/github/kesavavignesh/GUVI-Assignments/blob/main/Assessment2B.ipynb\" target=\"_parent\"><img src=\"https://colab.research.google.com/assets/colab-badge.svg\" alt=\"Open In Colab\"/></a>"
      ]
    },
    {
      "cell_type": "markdown",
      "metadata": {
        "id": "OhwbUkxqQwOh"
      },
      "source": [
        "###### Assessment"
      ]
    },
    {
      "cell_type": "markdown",
      "metadata": {
        "id": "Q0KDMAm8QwOo"
      },
      "source": [
        "###### I am going to provide two .csv files , you are supposed to work on them and have to provide solutions to the following problems"
      ]
    },
    {
      "cell_type": "markdown",
      "metadata": {
        "id": "wQ5KQlAtQwOq"
      },
      "source": [
        "###### import necessary libraries"
      ]
    },
    {
      "cell_type": "code",
      "execution_count": 4,
      "metadata": {
        "id": "VOuTBbaCQwOr"
      },
      "outputs": [],
      "source": [
        "import numpy as np\n",
        "import pandas as pd"
      ]
    },
    {
      "cell_type": "markdown",
      "metadata": {
        "id": "OQ_C4G68QwOs"
      },
      "source": [
        "###### merge those two csv files (after getting as dataframes, get them as a single dataframe)"
      ]
    },
    {
      "cell_type": "code",
      "execution_count": 11,
      "metadata": {
        "id": "HuczmeuqQwOt",
        "colab": {
          "base_uri": "https://localhost:8080/"
        },
        "outputId": "b4bf1fad-dee8-4a6f-807f-d5e459c7e07a"
      },
      "outputs": [
        {
          "output_type": "stream",
          "name": "stdout",
          "text": [
            "              Name  python  ...                              Department  Rising\n",
            "0        A.Dharani    82.0  ...        Computer Science and Engineering       0\n",
            "1      V.JEEVITHA     82.0  ...        Computer Science and Engineering       0\n",
            "2      HEMAVATHI.R   100.0  ...        Computer Science and Engineering       0\n",
            "3      Mugunthan S   100.0  ...        Computer Science and Engineering       0\n",
            "4      Sathammai.S   100.0  ...        Computer Science and Engineering       0\n",
            "..             ...     ...  ...                                     ...     ...\n",
            "79    KarthikeyanS    45.0  ...  Electronics and Electrical Engineering       0\n",
            "80        BARATH.P    29.0  ...  Electronics and Electrical Engineering       0\n",
            "81   N.Ajith kumar    82.0  ...  Electronics and Electrical Engineering       0\n",
            "82    mohamed nabi     0.0  ...  Electronics and Electrical Engineering       0\n",
            "83  yaser ahamed.A     0.0  ...  Electronics and Electrical Engineering       0\n",
            "\n",
            "[84 rows x 7 columns]\n"
          ]
        }
      ],
      "source": [
        "df1 = pd.read_csv(r'/content/college_1.csv') \n",
        "print(df1)"
      ]
    },
    {
      "cell_type": "code",
      "source": [
        "df2 = pd.read_csv(r'/content/college_2.csv') \n",
        "print(df2)"
      ],
      "metadata": {
        "colab": {
          "base_uri": "https://localhost:8080/"
        },
        "id": "BVL6PdNdG67k",
        "outputId": "abcead41-e9b5-4fb1-ee24-dc7a72c5dc71"
      },
      "execution_count": 12,
      "outputs": [
        {
          "output_type": "stream",
          "name": "stdout",
          "text": [
            "                      Name  ...  Rising\n",
            "0            ASHOK KUMAR K  ...       0\n",
            "1                  Chandru  ...     340\n",
            "2        Ganesh Ramkumar R  ...    2000\n",
            "3          Bodipudi Harini  ...       0\n",
            "4                VIINU V P  ...       0\n",
            "5               Poojitha Y  ...    1760\n",
            "6   Gowtham Chandrasekaran  ...    1700\n",
            "7                Gowtham R  ...       0\n",
            "8                 shifak N  ...    3140\n",
            "9                  Balaji   ...    1990\n",
            "10                Rushitha  ...     620\n",
            "11    Balaraman Muthupandi  ...     380\n",
            "12                JPradhap  ...     690\n",
            "13           SRIRAMKUMAR B  ...    1540\n",
            "14               Praneetha  ...     560\n",
            "15             Rahul Raj K  ...    1360\n",
            "16                 Guhan S  ...     320\n",
            "17            Suryarajan S  ...     840\n",
            "18          Narasimhan Y L  ...    2000\n",
            "19            Leelakrishna  ...    1340\n",
            "20          PremsagarReddy  ...    1000\n",
            "21               pradeeban  ...      30\n",
            "22             santhoshini  ...    1830\n",
            "23              MUKESH S M  ...       0\n",
            "24           P.GOVARDHANAN  ...       0\n",
            "25            SHAIK DANISH  ...     770\n",
            "26               sridhar.s  ...     580\n",
            "27       Vimalesh Fernando  ...       0\n",
            "28           M.Karthikeyan  ...       0\n",
            "29               Abishak s  ...       0\n",
            "30           praveen raj j  ...       0\n",
            "31              AMARNATH D  ...       0\n",
            "32                    bala  ...       0\n",
            "33                    XY Z  ...       0\n",
            "34               Hariharan  ...       0\n",
            "\n",
            "[35 rows x 9 columns]\n"
          ]
        }
      ]
    },
    {
      "cell_type": "code",
      "source": [
        "csv_file_list = [\"/content/college_1.csv\", \"/content/college_2.csv\"]\n",
        "\n",
        "list_of_dataframes = []\n",
        "for filename in csv_file_list:\n",
        "    list_of_dataframes.append(pd.read_csv(filename))\n",
        "\n",
        "merged_df = pd.concat(list_of_dataframes)\n",
        "\n",
        "print(merged_df)\n",
        "merged_df.to_csv('file1.csv')"
      ],
      "metadata": {
        "colab": {
          "base_uri": "https://localhost:8080/"
        },
        "id": "zokbf1JOGShR",
        "outputId": "3a5fba17-0acf-4758-86a7-e0572cdffc64"
      },
      "execution_count": 13,
      "outputs": [
        {
          "output_type": "stream",
          "name": "stdout",
          "text": [
            "             Name  python  mysql  ...  Rising  python_en computational_thinking\n",
            "0       A.Dharani    82.0   20.0  ...       0        NaN                    NaN\n",
            "1     V.JEEVITHA     82.0   20.0  ...       0        NaN                    NaN\n",
            "2     HEMAVATHI.R   100.0  100.0  ...       0        NaN                    NaN\n",
            "3     Mugunthan S   100.0   47.0  ...       0        NaN                    NaN\n",
            "4     Sathammai.S   100.0    8.0  ...       0        NaN                    NaN\n",
            "..            ...     ...    ...  ...     ...        ...                    ...\n",
            "30  praveen raj j    24.0    0.0  ...       0       -1.0                    0.0\n",
            "31     AMARNATH D    -1.0   12.0  ...       0       52.0                   -1.0\n",
            "32           bala    32.0    0.0  ...       0       49.0                   -1.0\n",
            "33           XY Z    -1.0   -1.0  ...       0       20.0                   -1.0\n",
            "34      Hariharan    -1.0   -1.0  ...       0       -1.0                    0.0\n",
            "\n",
            "[119 rows x 9 columns]\n"
          ]
        }
      ]
    },
    {
      "cell_type": "markdown",
      "metadata": {
        "id": "kW_H-ZcwQwOt"
      },
      "source": [
        "###### Take each csv file , split that csv file into multiple categories (example csv files are added in the repo) \n"
      ]
    },
    {
      "cell_type": "markdown",
      "metadata": {
        "id": "g5O74SM_QwOw"
      },
      "source": [
        "###### consider if the codekata score exceeds 15000 points(present week) then make a csv on those observations as Exceeded expectations.csv\n"
      ]
    },
    {
      "cell_type": "markdown",
      "source": [
        ""
      ],
      "metadata": {
        "id": "K-dqL7eYZ49g"
      }
    },
    {
      "cell_type": "markdown",
      "metadata": {
        "id": "gQD4VF4mQwOy"
      },
      "source": [
        "###### if  10000<codekata score<15000   (Reached_expectations.csv)\n",
        "\n"
      ]
    },
    {
      "cell_type": "markdown",
      "metadata": {
        "id": "idf7JYgnQwOz"
      },
      "source": [
        "###### if  7000<codekata score<10000   (Needs_Improvement.csv)\n"
      ]
    },
    {
      "cell_type": "markdown",
      "metadata": {
        "id": "BsaZj_76QwO0"
      },
      "source": [
        "###### if  codekate score < 7000        (Unsatisfactory.csv)"
      ]
    },
    {
      "cell_type": "code",
      "execution_count": 14,
      "metadata": {
        "id": "0Elq9eTsQwO1"
      },
      "outputs": [],
      "source": [
        "Exceeded = pd.read_csv(r\"/content/file1.csv\")\n",
        "Exceeded_expectations = Exceeded[Exceeded['CodeKata Score']>15000]\n",
        "Exceeded_expectations.to_csv('Exceeded expectations.csv')"
      ]
    },
    {
      "cell_type": "code",
      "execution_count": 19,
      "metadata": {
        "id": "cvm_w4_NQwO2"
      },
      "outputs": [],
      "source": [
        "Reached = pd.read_csv(r\"/content/file1.csv\")\n",
        "Reached_expectations = Reached[(Reached['CodeKata Score']>10000)& (Reached['CodeKata Score']<15000)]\n",
        "Reached_expectations.to_csv(\"Reached_expectations.csv\")"
      ]
    },
    {
      "cell_type": "code",
      "source": [
        "Needs = pd.read_csv(r\"/content/file1.csv\")\n",
        "Needs_Improvement = Needs[(Needs['CodeKata Score']>7000)& (Needs['CodeKata Score']<10000)]\n",
        "pd.set_option('display.max_rows', Needs.shape[0]+1)\n",
        "Needs_Improvement.to_csv(\"Needs_Improvement.csv\")"
      ],
      "metadata": {
        "id": "ZFZPOFTDIHlX"
      },
      "execution_count": 20,
      "outputs": []
    },
    {
      "cell_type": "code",
      "source": [
        "Unsatis = pd.read_csv(r\"/content/file1.csv\")\n",
        "Unsatisfactory = Unsatis[Unsatis['CodeKata Score']<7000]\n",
        "Unsatisfactory.to_csv(\"Unsatisfactory.csv\")"
      ],
      "metadata": {
        "id": "xRkQX4C1ILyW"
      },
      "execution_count": 21,
      "outputs": []
    },
    {
      "cell_type": "markdown",
      "metadata": {
        "id": "v0paSpcxQwO2"
      },
      "source": [
        "###### Average of previous week geekions vs this week geekions (i.e Previous Geekions vs CodeKata Score)"
      ]
    },
    {
      "cell_type": "code",
      "execution_count": 22,
      "metadata": {
        "id": "fpUP5sAuQwO4",
        "colab": {
          "base_uri": "https://localhost:8080/"
        },
        "outputId": "4010bf68-a555-477f-b152-bae4227d661e"
      },
      "outputs": [
        {
          "output_type": "stream",
          "name": "stdout",
          "text": [
            "3842.3529411764707\n",
            "4051.764705882353\n"
          ]
        }
      ],
      "source": [
        "df = pd.read_csv(r\"/content/file1.csv\")\n",
        "pd.set_option('display.max_rows',df.shape[0]+1)\n",
        "print(df['Previous Geekions'].mean())\n",
        "\n",
        "df = pd.read_csv(r\"/content/file1.csv\")\n",
        "print(df['CodeKata Score'].mean())"
      ]
    },
    {
      "cell_type": "markdown",
      "metadata": {
        "id": "6gW0zA1IQwO4"
      },
      "source": [
        "###### No of students participated "
      ]
    },
    {
      "cell_type": "code",
      "source": [
        "dataframe = pd.read_csv(r\"/content/file1.csv\")\n",
        "print(dataframe['Name'].count())"
      ],
      "metadata": {
        "colab": {
          "base_uri": "https://localhost:8080/"
        },
        "id": "_Azza2qbDvtM",
        "outputId": "614187e1-0578-47a0-e9ae-eda2cbd70a22"
      },
      "execution_count": 23,
      "outputs": [
        {
          "output_type": "stream",
          "name": "stdout",
          "text": [
            "119\n"
          ]
        }
      ]
    },
    {
      "cell_type": "markdown",
      "metadata": {
        "id": "uDGjvPqAQwO6"
      },
      "source": [
        "###### rising star of the week (top 3 candidate who performed well in that particular week)"
      ]
    },
    {
      "cell_type": "code",
      "execution_count": 24,
      "metadata": {
        "id": "eZm20ae4QwO7"
      },
      "outputs": [],
      "source": [
        "Highest = pd.read_csv('/content/file1.csv')"
      ]
    },
    {
      "cell_type": "markdown",
      "metadata": {
        "id": "S5LzLjP9QwO7"
      },
      "source": [
        "###### Shining stars of the week (top 3 candidates who has highest geekions)"
      ]
    },
    {
      "cell_type": "code",
      "execution_count": 25,
      "metadata": {
        "id": "E1nOXY0CQwO8",
        "colab": {
          "base_uri": "https://localhost:8080/",
          "height": 143
        },
        "outputId": "9223e6e0-bcf2-4ee0-9aee-9a493034924b"
      },
      "outputs": [
        {
          "output_type": "execute_result",
          "data": {
            "text/html": [
              "\n",
              "  <div id=\"df-499bd186-ea5a-46de-8135-7e5d33372c97\">\n",
              "    <div class=\"colab-df-container\">\n",
              "      <div>\n",
              "<style scoped>\n",
              "    .dataframe tbody tr th:only-of-type {\n",
              "        vertical-align: middle;\n",
              "    }\n",
              "\n",
              "    .dataframe tbody tr th {\n",
              "        vertical-align: top;\n",
              "    }\n",
              "\n",
              "    .dataframe thead th {\n",
              "        text-align: right;\n",
              "    }\n",
              "</style>\n",
              "<table border=\"1\" class=\"dataframe\">\n",
              "  <thead>\n",
              "    <tr style=\"text-align: right;\">\n",
              "      <th></th>\n",
              "      <th>Unnamed: 0</th>\n",
              "      <th>Name</th>\n",
              "      <th>python</th>\n",
              "      <th>mysql</th>\n",
              "      <th>Previous Geekions</th>\n",
              "      <th>CodeKata Score</th>\n",
              "      <th>Department</th>\n",
              "      <th>Rising</th>\n",
              "      <th>python_en</th>\n",
              "      <th>computational_thinking</th>\n",
              "    </tr>\n",
              "  </thead>\n",
              "  <tbody>\n",
              "    <tr>\n",
              "      <th>0</th>\n",
              "      <td>0</td>\n",
              "      <td>A.Dharani</td>\n",
              "      <td>82.0</td>\n",
              "      <td>20.0</td>\n",
              "      <td>24500</td>\n",
              "      <td>24500</td>\n",
              "      <td>Computer Science and Engineering</td>\n",
              "      <td>0</td>\n",
              "      <td>NaN</td>\n",
              "      <td>NaN</td>\n",
              "    </tr>\n",
              "    <tr>\n",
              "      <th>1</th>\n",
              "      <td>1</td>\n",
              "      <td>V.JEEVITHA</td>\n",
              "      <td>82.0</td>\n",
              "      <td>20.0</td>\n",
              "      <td>21740</td>\n",
              "      <td>21740</td>\n",
              "      <td>Computer Science and Engineering</td>\n",
              "      <td>0</td>\n",
              "      <td>NaN</td>\n",
              "      <td>NaN</td>\n",
              "    </tr>\n",
              "    <tr>\n",
              "      <th>2</th>\n",
              "      <td>2</td>\n",
              "      <td>HEMAVATHI.R</td>\n",
              "      <td>100.0</td>\n",
              "      <td>100.0</td>\n",
              "      <td>19680</td>\n",
              "      <td>19680</td>\n",
              "      <td>Computer Science and Engineering</td>\n",
              "      <td>0</td>\n",
              "      <td>NaN</td>\n",
              "      <td>NaN</td>\n",
              "    </tr>\n",
              "  </tbody>\n",
              "</table>\n",
              "</div>\n",
              "      <button class=\"colab-df-convert\" onclick=\"convertToInteractive('df-499bd186-ea5a-46de-8135-7e5d33372c97')\"\n",
              "              title=\"Convert this dataframe to an interactive table.\"\n",
              "              style=\"display:none;\">\n",
              "        \n",
              "  <svg xmlns=\"http://www.w3.org/2000/svg\" height=\"24px\"viewBox=\"0 0 24 24\"\n",
              "       width=\"24px\">\n",
              "    <path d=\"M0 0h24v24H0V0z\" fill=\"none\"/>\n",
              "    <path d=\"M18.56 5.44l.94 2.06.94-2.06 2.06-.94-2.06-.94-.94-2.06-.94 2.06-2.06.94zm-11 1L8.5 8.5l.94-2.06 2.06-.94-2.06-.94L8.5 2.5l-.94 2.06-2.06.94zm10 10l.94 2.06.94-2.06 2.06-.94-2.06-.94-.94-2.06-.94 2.06-2.06.94z\"/><path d=\"M17.41 7.96l-1.37-1.37c-.4-.4-.92-.59-1.43-.59-.52 0-1.04.2-1.43.59L10.3 9.45l-7.72 7.72c-.78.78-.78 2.05 0 2.83L4 21.41c.39.39.9.59 1.41.59.51 0 1.02-.2 1.41-.59l7.78-7.78 2.81-2.81c.8-.78.8-2.07 0-2.86zM5.41 20L4 18.59l7.72-7.72 1.47 1.35L5.41 20z\"/>\n",
              "  </svg>\n",
              "      </button>\n",
              "      \n",
              "  <style>\n",
              "    .colab-df-container {\n",
              "      display:flex;\n",
              "      flex-wrap:wrap;\n",
              "      gap: 12px;\n",
              "    }\n",
              "\n",
              "    .colab-df-convert {\n",
              "      background-color: #E8F0FE;\n",
              "      border: none;\n",
              "      border-radius: 50%;\n",
              "      cursor: pointer;\n",
              "      display: none;\n",
              "      fill: #1967D2;\n",
              "      height: 32px;\n",
              "      padding: 0 0 0 0;\n",
              "      width: 32px;\n",
              "    }\n",
              "\n",
              "    .colab-df-convert:hover {\n",
              "      background-color: #E2EBFA;\n",
              "      box-shadow: 0px 1px 2px rgba(60, 64, 67, 0.3), 0px 1px 3px 1px rgba(60, 64, 67, 0.15);\n",
              "      fill: #174EA6;\n",
              "    }\n",
              "\n",
              "    [theme=dark] .colab-df-convert {\n",
              "      background-color: #3B4455;\n",
              "      fill: #D2E3FC;\n",
              "    }\n",
              "\n",
              "    [theme=dark] .colab-df-convert:hover {\n",
              "      background-color: #434B5C;\n",
              "      box-shadow: 0px 1px 3px 1px rgba(0, 0, 0, 0.15);\n",
              "      filter: drop-shadow(0px 1px 2px rgba(0, 0, 0, 0.3));\n",
              "      fill: #FFFFFF;\n",
              "    }\n",
              "  </style>\n",
              "\n",
              "      <script>\n",
              "        const buttonEl =\n",
              "          document.querySelector('#df-499bd186-ea5a-46de-8135-7e5d33372c97 button.colab-df-convert');\n",
              "        buttonEl.style.display =\n",
              "          google.colab.kernel.accessAllowed ? 'block' : 'none';\n",
              "\n",
              "        async function convertToInteractive(key) {\n",
              "          const element = document.querySelector('#df-499bd186-ea5a-46de-8135-7e5d33372c97');\n",
              "          const dataTable =\n",
              "            await google.colab.kernel.invokeFunction('convertToInteractive',\n",
              "                                                     [key], {});\n",
              "          if (!dataTable) return;\n",
              "\n",
              "          const docLinkHtml = 'Like what you see? Visit the ' +\n",
              "            '<a target=\"_blank\" href=https://colab.research.google.com/notebooks/data_table.ipynb>data table notebook</a>'\n",
              "            + ' to learn more about interactive tables.';\n",
              "          element.innerHTML = '';\n",
              "          dataTable['output_type'] = 'display_data';\n",
              "          await google.colab.output.renderOutput(dataTable, element);\n",
              "          const docLink = document.createElement('div');\n",
              "          docLink.innerHTML = docLinkHtml;\n",
              "          element.appendChild(docLink);\n",
              "        }\n",
              "      </script>\n",
              "    </div>\n",
              "  </div>\n",
              "  "
            ],
            "text/plain": [
              "   Unnamed: 0         Name  python  ...  Rising  python_en  computational_thinking\n",
              "0           0    A.Dharani    82.0  ...       0        NaN                     NaN\n",
              "1           1  V.JEEVITHA     82.0  ...       0        NaN                     NaN\n",
              "2           2  HEMAVATHI.R   100.0  ...       0        NaN                     NaN\n",
              "\n",
              "[3 rows x 10 columns]"
            ]
          },
          "metadata": {},
          "execution_count": 25
        }
      ],
      "source": [
        "Highest = pd.read_csv('/content/file1.csv')\n",
        "Highest.nlargest(3, ['CodeKata Score'])"
      ]
    },
    {
      "cell_type": "markdown",
      "metadata": {
        "id": "0mNSmCGMQwO9"
      },
      "source": [
        "###### Department wise codekata performence (pie chart)"
      ]
    },
    {
      "cell_type": "code",
      "execution_count": 26,
      "metadata": {
        "id": "eSdX757PQwO9",
        "colab": {
          "base_uri": "https://localhost:8080/"
        },
        "outputId": "f7e0835c-c93a-4b1e-c95d-7a70991d737a"
      },
      "outputs": [
        {
          "output_type": "stream",
          "name": "stdout",
          "text": [
            "Computer Science and Engineering             63\n",
            "Electronics and Communication Engineering    39\n",
            "Electronics and Electrical Engineering       17\n",
            "Name: Department, dtype: int64\n"
          ]
        }
      ],
      "source": [
        "df = pd.read_csv ('/content/file1.csv')\n",
        "item_counts = df[\"Department\"].value_counts()\n",
        "print(item_counts)"
      ]
    },
    {
      "cell_type": "code",
      "source": [
        "import matplotlib.pyplot as plt\n",
        "import seaborn as sns\n",
        "import pandas as pd\n",
        "from matplotlib.pyplot import pie, axis, show\n",
        "%matplotlib inline\n",
        "\n",
        "df = pd.read_csv ('/content/file1.csv')\n",
        "\n",
        "data = df.groupby(df[\"Department\"])[\"CodeKata Score\"].sum()\n",
        "axis('equal');\n",
        "plt.title('Department wise codekata performance ')\n",
        "pie(data, labels=data.index,autopct=\"%.1f%%\",explode = (0.1, 0.1, 0.1));\n",
        "show()"
      ],
      "metadata": {
        "colab": {
          "base_uri": "https://localhost:8080/",
          "height": 264
        },
        "id": "iUysbfgpI38e",
        "outputId": "7f2b07ad-b4c5-4e96-f008-77edb89b1316"
      },
      "execution_count": 27,
      "outputs": [
        {
          "output_type": "display_data",
          "data": {
            "image/png": "[encoded data removed]",
            "text/plain": [
              "<Figure size 432x288 with 1 Axes>"
            ]
          },
          "metadata": {}
        }
      ]
    },
    {
      "cell_type": "markdown",
      "metadata": {
        "id": "0PhypqfMQwO9"
      },
      "source": [
        "###### Department wise toppers (horizantal bar graph or any visual representations of your choice)"
      ]
    },
    {
      "cell_type": "code",
      "execution_count": 28,
      "metadata": {
        "id": "_4eK7oXSQwO-"
      },
      "outputs": [],
      "source": [
        "df = pd.read_csv (r'/content/file1.csv')\n",
        "pd.set_option('display.max_rows',df.shape[0]+1)\n",
        "data = df[(df['Department'] == 'Computer Science and Engineering')]\n",
        "pd.set_option('display.max_rows',df.shape[0]+1)\n",
        "data.to_csv(\"Computer Science and Engineering.csv\")"
      ]
    },
    {
      "cell_type": "code",
      "execution_count": 29,
      "metadata": {
        "id": "QSrat7EoQwO-",
        "colab": {
          "base_uri": "https://localhost:8080/"
        },
        "outputId": "30091491-c760-4d66-b619-4fd4475cc8b7"
      },
      "outputs": [
        {
          "output_type": "stream",
          "name": "stdout",
          "text": [
            "24500\n"
          ]
        }
      ],
      "source": [
        "df = pd.read_csv (r'/content/Computer Science and Engineering.csv')\n",
        "column = df[\"CodeKata Score\"]\n",
        "max_value = column.max()\n",
        "print(max_value)"
      ]
    },
    {
      "cell_type": "code",
      "execution_count": 30,
      "metadata": {
        "id": "KmLayhvWQwO-"
      },
      "outputs": [],
      "source": [
        "df = pd.read_csv (r'/content/file1.csv')\n",
        "pd.set_option('display.max_rows',df.shape[0]+1)\n",
        "data = df[(df['Department'] == 'Electronics and Communication Engineering')]\n",
        "pd.set_option('display.max_rows',df.shape[0]+1)\n",
        "data.to_csv(\"Electronics and Communication Engineering.csv\")"
      ]
    },
    {
      "cell_type": "code",
      "execution_count": 31,
      "metadata": {
        "id": "DmAdXEn_QwPA",
        "colab": {
          "base_uri": "https://localhost:8080/"
        },
        "outputId": "9a389421-8b0f-45d0-b000-7464480aa045"
      },
      "outputs": [
        {
          "output_type": "stream",
          "name": "stdout",
          "text": [
            "10040\n"
          ]
        }
      ],
      "source": [
        "df = pd.read_csv (r'/content/Electronics and Communication Engineering.csv')\n",
        "column = df[\"CodeKata Score\"]\n",
        "max_value = column.max()\n",
        "print(max_value)"
      ]
    },
    {
      "cell_type": "code",
      "source": [
        "df = pd.read_csv (r'/content/file1.csv')\n",
        "data = df[(df['Department'] == 'Electronics and Electrical Engineering')]\n",
        "pd.set_option('display.max_rows',df.shape[0]+1)\n",
        "data.to_csv(\"Electronics and Electrical Engineering.csv\")"
      ],
      "metadata": {
        "id": "eGeuAQhyJdjt"
      },
      "execution_count": 32,
      "outputs": []
    },
    {
      "cell_type": "code",
      "source": [
        "df = pd.read_csv (r'/content/Electronics and Electrical Engineering.csv')\n",
        "pd.set_option('display.max_rows',df.shape[0]+1)\n",
        "max_index = df[\"CodeKata Score\"].idxmax()\n",
        "a = df.iloc[[max_index]]\n",
        "temp1 = a[['Name','CodeKata Score','Department']]\n",
        "temp1\n",
        "\n",
        "df = pd.read_csv (r'/content/Electronics and Communication Engineering.csv')\n",
        "pd.set_option('display.max_rows',df.shape[0]+1)\n",
        "max_index = df[\"CodeKata Score\"].idxmax()\n",
        "b = df.iloc[[max_index]]\n",
        "temp2 = b[['Name','CodeKata Score','Department']]\n",
        "temp2\n",
        "\n",
        "df = pd.read_csv (r'/content/Computer Science and Engineering.csv')\n",
        "pd.set_option('display.max_rows',df.shape[0]+1)\n",
        "max_index = df[\"CodeKata Score\"].idxmax()\n",
        "c = df.iloc[[max_index]]\n",
        "temp3 = c[['Name','CodeKata Score','Department']]\n",
        "temp3"
      ],
      "metadata": {
        "colab": {
          "base_uri": "https://localhost:8080/",
          "height": 81
        },
        "id": "aApwI-kdJgrJ",
        "outputId": "16f48e98-46b2-40d2-f837-85d28813d1b0"
      },
      "execution_count": 34,
      "outputs": [
        {
          "output_type": "execute_result",
          "data": {
            "text/html": [
              "\n",
              "  <div id=\"df-e9b259fa-c84a-483b-bf34-f3d10ddb1fb1\">\n",
              "    <div class=\"colab-df-container\">\n",
              "      <div>\n",
              "<style scoped>\n",
              "    .dataframe tbody tr th:only-of-type {\n",
              "        vertical-align: middle;\n",
              "    }\n",
              "\n",
              "    .dataframe tbody tr th {\n",
              "        vertical-align: top;\n",
              "    }\n",
              "\n",
              "    .dataframe thead th {\n",
              "        text-align: right;\n",
              "    }\n",
              "</style>\n",
              "<table border=\"1\" class=\"dataframe\">\n",
              "  <thead>\n",
              "    <tr style=\"text-align: right;\">\n",
              "      <th></th>\n",
              "      <th>Name</th>\n",
              "      <th>CodeKata Score</th>\n",
              "      <th>Department</th>\n",
              "    </tr>\n",
              "  </thead>\n",
              "  <tbody>\n",
              "    <tr>\n",
              "      <th>0</th>\n",
              "      <td>A.Dharani</td>\n",
              "      <td>24500</td>\n",
              "      <td>Computer Science and Engineering</td>\n",
              "    </tr>\n",
              "  </tbody>\n",
              "</table>\n",
              "</div>\n",
              "      <button class=\"colab-df-convert\" onclick=\"convertToInteractive('df-e9b259fa-c84a-483b-bf34-f3d10ddb1fb1')\"\n",
              "              title=\"Convert this dataframe to an interactive table.\"\n",
              "              style=\"display:none;\">\n",
              "        \n",
              "  <svg xmlns=\"http://www.w3.org/2000/svg\" height=\"24px\"viewBox=\"0 0 24 24\"\n",
              "       width=\"24px\">\n",
              "    <path d=\"M0 0h24v24H0V0z\" fill=\"none\"/>\n",
              "    <path d=\"M18.56 5.44l.94 2.06.94-2.06 2.06-.94-2.06-.94-.94-2.06-.94 2.06-2.06.94zm-11 1L8.5 8.5l.94-2.06 2.06-.94-2.06-.94L8.5 2.5l-.94 2.06-2.06.94zm10 10l.94 2.06.94-2.06 2.06-.94-2.06-.94-.94-2.06-.94 2.06-2.06.94z\"/><path d=\"M17.41 7.96l-1.37-1.37c-.4-.4-.92-.59-1.43-.59-.52 0-1.04.2-1.43.59L10.3 9.45l-7.72 7.72c-.78.78-.78 2.05 0 2.83L4 21.41c.39.39.9.59 1.41.59.51 0 1.02-.2 1.41-.59l7.78-7.78 2.81-2.81c.8-.78.8-2.07 0-2.86zM5.41 20L4 18.59l7.72-7.72 1.47 1.35L5.41 20z\"/>\n",
              "  </svg>\n",
              "      </button>\n",
              "      \n",
              "  <style>\n",
              "    .colab-df-container {\n",
              "      display:flex;\n",
              "      flex-wrap:wrap;\n",
              "      gap: 12px;\n",
              "    }\n",
              "\n",
              "    .colab-df-convert {\n",
              "      background-color: #E8F0FE;\n",
              "      border: none;\n",
              "      border-radius: 50%;\n",
              "      cursor: pointer;\n",
              "      display: none;\n",
              "      fill: #1967D2;\n",
              "      height: 32px;\n",
              "      padding: 0 0 0 0;\n",
              "      width: 32px;\n",
              "    }\n",
              "\n",
              "    .colab-df-convert:hover {\n",
              "      background-color: #E2EBFA;\n",
              "      box-shadow: 0px 1px 2px rgba(60, 64, 67, 0.3), 0px 1px 3px 1px rgba(60, 64, 67, 0.15);\n",
              "      fill: #174EA6;\n",
              "    }\n",
              "\n",
              "    [theme=dark] .colab-df-convert {\n",
              "      background-color: #3B4455;\n",
              "      fill: #D2E3FC;\n",
              "    }\n",
              "\n",
              "    [theme=dark] .colab-df-convert:hover {\n",
              "      background-color: #434B5C;\n",
              "      box-shadow: 0px 1px 3px 1px rgba(0, 0, 0, 0.15);\n",
              "      filter: drop-shadow(0px 1px 2px rgba(0, 0, 0, 0.3));\n",
              "      fill: #FFFFFF;\n",
              "    }\n",
              "  </style>\n",
              "\n",
              "      <script>\n",
              "        const buttonEl =\n",
              "          document.querySelector('#df-e9b259fa-c84a-483b-bf34-f3d10ddb1fb1 button.colab-df-convert');\n",
              "        buttonEl.style.display =\n",
              "          google.colab.kernel.accessAllowed ? 'block' : 'none';\n",
              "\n",
              "        async function convertToInteractive(key) {\n",
              "          const element = document.querySelector('#df-e9b259fa-c84a-483b-bf34-f3d10ddb1fb1');\n",
              "          const dataTable =\n",
              "            await google.colab.kernel.invokeFunction('convertToInteractive',\n",
              "                                                     [key], {});\n",
              "          if (!dataTable) return;\n",
              "\n",
              "          const docLinkHtml = 'Like what you see? Visit the ' +\n",
              "            '<a target=\"_blank\" href=https://colab.research.google.com/notebooks/data_table.ipynb>data table notebook</a>'\n",
              "            + ' to learn more about interactive tables.';\n",
              "          element.innerHTML = '';\n",
              "          dataTable['output_type'] = 'display_data';\n",
              "          await google.colab.output.renderOutput(dataTable, element);\n",
              "          const docLink = document.createElement('div');\n",
              "          docLink.innerHTML = docLinkHtml;\n",
              "          element.appendChild(docLink);\n",
              "        }\n",
              "      </script>\n",
              "    </div>\n",
              "  </div>\n",
              "  "
            ],
            "text/plain": [
              "        Name  CodeKata Score                        Department\n",
              "0  A.Dharani           24500  Computer Science and Engineering"
            ]
          },
          "metadata": {},
          "execution_count": 34
        }
      ]
    },
    {
      "cell_type": "code",
      "source": [
        "frames = [temp1, temp2, temp3]\n",
        "result = pd.concat(frames)\n",
        "result.set_index([pd.Index([0,1,2]),'Name'])\n",
        "result.to_csv(\"Topers.csv\")"
      ],
      "metadata": {
        "id": "HHFPm8iBJkEv"
      },
      "execution_count": 35,
      "outputs": []
    },
    {
      "cell_type": "code",
      "source": [
        "import matplotlib.pyplot as plt\n",
        "import seaborn as sns\n",
        "import pandas as pd\n",
        "from matplotlib.pyplot import pie, axis, show\n",
        "%matplotlib inline\n",
        "\n",
        "df = pd.read_csv('/content/Topers.csv')\n",
        "\n",
        "df.plot.barh(x ='Department', y='CodeKata Score',\n",
        "             title='Department wise topers', color='blue')"
      ],
      "metadata": {
        "colab": {
          "base_uri": "https://localhost:8080/",
          "height": 298
        },
        "id": "7VcW7tygJvQm",
        "outputId": "105dc098-be33-4a49-8477-213ddbb434e0"
      },
      "execution_count": 36,
      "outputs": [
        {
          "output_type": "execute_result",
          "data": {
            "text/plain": [
              "<matplotlib.axes._subplots.AxesSubplot at 0x7f5852cdd110>"
            ]
          },
          "metadata": {},
          "execution_count": 36
        },
        {
          "output_type": "display_data",
          "data": {
            "image/png": "[encoded data removed]",
            "text/plain": [
              "<Figure size 432x288 with 1 Axes>"
            ]
          },
          "metadata": {
            "needs_background": "light"
          }
        }
      ]
    }
  ],
  "metadata": {
    "kernelspec": {
      "display_name": "Python 3",
      "language": "python",
      "name": "python3"
    },
    "language_info": {
      "codemirror_mode": {
        "name": "ipython",
        "version": 3
      },
      "file_extension": ".py",
      "mimetype": "text/x-python",
      "name": "python",
      "nbconvert_exporter": "python",
      "pygments_lexer": "ipython3",
      "version": "3.8.3"
    },
    "colab": {
      "name": "Assessment2B.ipynb",
      "provenance": [],
      "include_colab_link": true
    }
  },
  "nbformat": 4,
  "nbformat_minor": 0
}